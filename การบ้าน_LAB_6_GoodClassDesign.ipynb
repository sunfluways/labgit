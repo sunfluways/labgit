{
  "cells": [
    {
      "cell_type": "markdown",
      "metadata": {
        "id": "gkAU-xV_kVIU"
      },
      "source": [
        "# Lab: Refactoring for Better Class Design\n",
        "\n",
        "Objectives\n",
        "\n",
        "\n",
        "1.   Improve cohesion by ensuring each class has a single, clear responsibility.\n",
        "2.   Reduce coupling to minimize dependencies between classes.\n",
        "3. Apply refactoring techniques to make the code more maintainable.\n",
        "4. Use Representation-Driven Design (RDD) by utilizing private variables and controlled access.\n",
        "\n",
        "\n",
        "\n",
        "\n",
        "\n"
      ]
    },
    {
      "cell_type": "code",
      "execution_count": 302,
      "metadata": {
        "id": "VYBDnZcAkD4Z",
        "tags": [
          "parameters"
        ]
      },
      "outputs": [],
      "source": [
        "class GameCharacter:\n",
        "    def __init__(self, name, hp, attack, defense, gold, inventory, level, experience, quests):\n",
        "        self.name = name\n",
        "        self.hp = hp\n",
        "        self.attack = attack\n",
        "        self.defense = defense\n",
        "        self.gold = gold\n",
        "        self.inventory = inventory\n",
        "        self.level = level\n",
        "        self.experience = experience\n",
        "        self.quests = quests\n",
        "\n",
        "    def attack_enemy(self, enemy):\n",
        "        damage = self.attack - enemy.defense\n",
        "        if damage > 0:\n",
        "            enemy.hp -= damage\n",
        "        print(f\"{self.name} attacks {enemy.name} for {damage} damage!\")\n",
        "\n",
        "    def buy_item(self, item, price):\n",
        "        if self.gold >= price:\n",
        "            self.gold -= price\n",
        "            self.inventory.append(item)\n",
        "            print(f\"{self.name} bought {item}!\")\n",
        "        else:\n",
        "            print(f\"{self.name} doesn't have enough gold!\")\n",
        "\n",
        "    def display_status(self):\n",
        "        print(f\"Name: {self.name}, HP: {self.hp}, Attack: {self.attack}, Defense: {self.defense}, Gold: {self.gold}, Level: {self.level}, Experience: {self.experience}\")\n",
        "\n",
        "    def gain_experience(self, points):\n",
        "        self.experience += points\n",
        "        if self.experience >= 100:\n",
        "            self.level_up()\n",
        "\n",
        "    def level_up(self):\n",
        "        self.level += 1\n",
        "        self.attack += 5\n",
        "        self.defense += 3\n",
        "        self.hp += 10\n",
        "        print(f\"{self.name} leveled up to level {self.level}!\")\n",
        "\n",
        "    def complete_quest(self, quest):\n",
        "        if quest not in self.quests:\n",
        "            self.quests.append(quest)\n",
        "            print(f\"{self.name} completed quest: {quest}!\")\n",
        "        else:\n",
        "            print(f\"{self.name} already completed this quest.\")\n",
        "\n",
        "    def buy_armor(self, armor, price):\n",
        "        if self.gold >= price:\n",
        "            self.gold -= price\n",
        "            self.inventory.append(armor)\n",
        "            print(f\"{self.name} bought armor: {armor}!\")\n",
        "        else:\n",
        "            print(f\"{self.name} doesn't have enough gold for armor!\")\n",
        "\n",
        "    def use_potion(self, potion):\n",
        "        if potion in self.inventory:\n",
        "            self.hp += 20\n",
        "            self.inventory.remove(potion)\n",
        "            print(f\"{self.name} used a {potion} potion!\")\n",
        "        else:\n",
        "            print(f\"{self.name} doesn't have a {potion} potion!\")\n"
      ]
    },
    {
      "cell_type": "markdown",
      "metadata": {
        "id": "3RzRttMFkxNX"
      },
      "source": [
        "What's the problem of the code above?"
      ]
    },
    {
      "cell_type": "code",
      "execution_count": 303,
      "metadata": {
        "id": "EKElSbXmlCL4"
      },
      "outputs": [],
      "source": [
        "#Answer here\n",
        "#คลาสน้อยเกินไปเกิดการพึ่งพากันในคลาสเดียว\n",
        "#ทองไม่มีที่มา\n",
        "#enemyไม่มีที่มา\n",
        "#โค้ดไม่เป็นส่วนตัว\n",
        "#ไม่มีอะไรเพิ่ม exp"
      ]
    },
    {
      "cell_type": "markdown",
      "metadata": {
        "id": "YoHUvxGYtBP0"
      },
      "source": [
        "What's your solution to modify the code?\n",
        "\n",
        "Hint: The modified version should contain 3 - 4 classes"
      ]
    },
    {
      "cell_type": "code",
      "execution_count": 304,
      "metadata": {
        "id": "D516rZvotJ6H"
      },
      "outputs": [],
      "source": [
        "#Explain here\n",
        "#แยกคลาสออกมาเพื่อลดการพึ่งพา\n",
        "#เพิ่มทึ่มาของทองในเควส\n",
        "#เพิ่มคลาสสร้างenemy\n",
        "#เพิ่ม exp เควส\n",
        "#ปรับโค้ดให้เป็นส่วนตัว"
      ]
    },
    {
      "cell_type": "markdown",
      "metadata": {
        "id": "33deEtYdl8uy"
      },
      "source": [
        "Refactor the code using good class design principle."
      ]
    },
    {
      "cell_type": "code",
      "execution_count": 320,
      "metadata": {
        "id": "3evsPqA1TnYu"
      },
      "outputs": [],
      "source": [
        "class Player:\n",
        "    def __init__(self,name):\n",
        "        self.name = name\n",
        "        self.__level = 1\n",
        "        self.__exp = 0\n",
        "        self.__hp = 100\n",
        "        self.__attack = 10\n",
        "        self.__defense = 5\n",
        "        self.__gold = 0\n",
        "        self.inventory = []\n",
        "        self.__quests = []\n",
        "\n",
        "    def getLevel(self):\n",
        "        return self.__level\n",
        "    def setLevel(self,level):\n",
        "        if self.__isVaildLevel(level):\n",
        "            self.__level = level\n",
        "    def __isVaildLevel(self,level):\n",
        "        return level == 1\n",
        "    def level_up(self):\n",
        "        self.__level += 1\n",
        "        self.__attack += 5\n",
        "        self.__defense += 3\n",
        "        self.__hp += 10\n",
        "        print(f\"{self.name} leveled up to level {self.level}!\")\n",
        "    \n",
        "    def __getExp(self):\n",
        "        return self.__exp\n",
        "    def __isVaildExp(self,exp):\n",
        "        return exp == 0\n",
        "    def __setExp(self,exp):\n",
        "        if self.__isVaildExp(exp):\n",
        "            self.__exp = exp\n",
        "\n",
        "    def __getHp(self):\n",
        "        return self.__hp\n",
        "    def __isVaildHp(self,hp):\n",
        "        return hp == 100\n",
        "    def __setHp(self,hp):\n",
        "        if self.__isVaildHp(hp):\n",
        "            self.__hp = hp   \n",
        "    \n",
        "    def __getAttack(self):\n",
        "        return self.__attack\n",
        "    def __isVaildAttack(self,attack):\n",
        "        return attack == 10\n",
        "    def __setAttack(self,attack):\n",
        "        if self.__isVaildAttack(attack):\n",
        "            self.__attack = attack\n",
        "    \n",
        "    def __getDefense(self):\n",
        "        return self.__defense\n",
        "    def __isVaildDefense(self,defense):\n",
        "        return defense == 5\n",
        "    def __setDefense(self,defense):\n",
        "        if self.__isVaildDefense(defense):\n",
        "            self.__defense = defense\n",
        "\n",
        "    def __getGold(self):\n",
        "        return self.__gold\n",
        "    def __isVaildGold(self,gold):\n",
        "        return gold == 0\n",
        "    def __setGold(self,gold):\n",
        "        if self.__isVaildGold(gold):\n",
        "            self.__gold = gold\n",
        "    def hasEnoughGold(self, amount):\n",
        "        return self.__gold >= amount\n",
        "    def decreaseGold(self, amount):\n",
        "        if self.hasEnoughGold(amount):\n",
        "            self.__gold -= amount\n",
        "            return True\n",
        "        else:\n",
        "            return False\n",
        "    \n",
        "    def take_damage(self, damage):\n",
        "        self.__hp -= damage\n",
        "        if self.__hp < 0:\n",
        "            self.__hp = 0\n",
        "\n",
        "    def display_stataus(self):\n",
        "        print(f\"Name: {self.name}\\nHP: {self.__hp}\\nAttack: {self.__attack}\\nDefense: {self.__defense}\\nGold: {self.__gold}\\nLevel: {self.__level}\\nExperience: {self.__exp}\\n---------------------------------\")\n",
        "\n",
        "import random\n",
        "class enemy:\n",
        "    def __init__(self, name):\n",
        "        self.Enemyname = name\n",
        "        self.__EnemyHp = random.randint(100, 200)\n",
        "        self.__EnemyAttack = random.randint(10, 20)\n",
        "        self.__EnemyDefense = random.randint(1, 10)\n",
        "        self.__EnemyLevel = random.randint(1, 5)\n",
        "    \n",
        "    def __getEnemyHp(self):\n",
        "        return self.__EnemyHp\n",
        "    def __isVaildEnemyHp(self,hp):\n",
        "        return hp == random.randint(100,200)\n",
        "    def __setEnemyHp(self,hp):\n",
        "        if self.__isVaildEnemyHp(hp):\n",
        "            self.__hp = hp\n",
        "    \n",
        "    def __getEnemyAttack(self):\n",
        "        return self.__attack\n",
        "    def __isVaildEnemyAttack(self,attack):\n",
        "        return attack == random.randint(10,20)\n",
        "    def __setEnemyAttack(self,attack):\n",
        "        if self.__isVaildEnemyAttack(attack):\n",
        "            self.__attack = attack\n",
        "    \n",
        "    def __getEnemyDefense(self):\n",
        "        return self.__defense\n",
        "    def __isVaildEnemyDefense(self,defense):\n",
        "        return defense == random.randint(1,10)\n",
        "    def __setEnemyDefense(self,defense):\n",
        "        if self.__isVaildEnemyDefense(defense):\n",
        "            self.__defense = defense\n",
        "    \n",
        "    def __getEnemyLevel(self):\n",
        "        return self.__level\n",
        "    def __isVaildEnemyLevel(self,level):\n",
        "        return level == random.randint(1,5)\n",
        "    def __setEnemyLevel(self,level):\n",
        "        if self.__isVaildEnemyLevel(level):\n",
        "            self.__level = level\n",
        "\n",
        "    def take_damage(self, damage):\n",
        "        self.__EnemyHp -= damage\n",
        "        if self.__EnemyHp < 0:\n",
        "            self.__EnemyHp = 0\n",
        "\n",
        "    def displayEnemyStatus(self):\n",
        "        print(f\"Name: {self.Enemyname}\\nHP: {self.__EnemyHp}\\nAttack: {self.__EnemyAttack}\\nDefense: {self.__EnemyDefense}\\nLevel: {self.__EnemyLevel}\\n---------------------------------\")\n",
        "    \n",
        "\n",
        "class inventory:\n",
        "    def __init__(self):\n",
        "        self.inventory = []\n",
        "\n",
        "    def use_potion(self, potion):\n",
        "        if potion in self.inventory:\n",
        "            self.hp += 20\n",
        "            self.inventory.remove(potion)\n",
        "            print(f\"{self.name} used a {potion} potion!\")\n",
        "        else:\n",
        "            print(f\"{self.name} doesn't have a {potion} potion!\")\n",
        "    \n",
        "    def addItemToInventory(self, item):\n",
        "        self.inventory.append(item)\n",
        "\n",
        "    def showInventory(self):\n",
        "        print(f\"This is your inventory : {self.inventory}\")\n",
        "\n",
        "class item:\n",
        "  def __init__(self, name, price, count,):\n",
        "      self.name = name\n",
        "      self.price = price\n",
        "      self.count = count\n",
        "\n",
        "  def sell(self,count):\n",
        "      if count <= self.count:\n",
        "        self.count -= count\n",
        "        return self.count\n",
        "      else :\n",
        "        return \"Out of Stock\"\n",
        "\n",
        "  def add(self,count):\n",
        "      self.count += count\n",
        "      return self.count\n",
        "\n",
        "  def set_price(self,price):\n",
        "      self.price = price\n",
        "      return self.price\n",
        "  \n",
        "  def showstock(self):\n",
        "      print('product is ',self.name)\n",
        "      print('price is ',self.price)\n",
        "      print('count is',self.count)\n",
        "\n",
        "class store:\n",
        "    def __init__(self, name):\n",
        "        self.items = []\n",
        "        self.name = name\n",
        "\n",
        "    def add_items(self, item):\n",
        "        self.items.append(item)\n",
        "\n",
        "    def sell_item(self, name, count):\n",
        "        for item in self.items:\n",
        "            if item.name == name:\n",
        "                return item.sell(count)\n",
        "        return \"Product not found\"\n",
        "        \n",
        "    def buy_item(self, player, item_name, price):\n",
        "        for item in self.items:\n",
        "            if item.name == item_name:\n",
        "                if player.decreaseGold(price):\n",
        "                    player.addItemToInventory(item)\n",
        "                    print(f\"{player.name} bought {item_name}!\")\n",
        "                    return\n",
        "                else:\n",
        "                    print(f\"{player.name} doesn't have enough gold!\")\n",
        "                    return\n",
        "        print(\"Item not found in store!\")\n",
        "\n",
        "    def show_stock(self):\n",
        "        for item in self.items:\n",
        "            item.showstock()\n",
        "\n",
        "class quest:\n",
        "    def __init__(self, name, exp_reward, gold_reward):\n",
        "        self.name = name\n",
        "        self.exp_reward = exp_reward\n",
        "        self.gold_reward = gold_reward\n",
        "        self.is_completed = False\n",
        "\n",
        "    def complete_quest(self, player):\n",
        "        if not self.is_completed:\n",
        "            player._Player__exp += self.exp_reward\n",
        "            player._Player__gold += self.gold_reward\n",
        "            self.is_completed = True\n",
        "            print(f\"{player.name} completed quest: {self.name}!\")\n",
        "        else:\n",
        "            print(f\"{player.name} has already completed this quest!\")\n",
        "\n",
        "    def show_quest(self):\n",
        "        status = \"completed\" if self.is_completed else \"not completed\"\n",
        "        print(f\"Quest: {self.name}\\nExperience Reward: {self.exp_reward}\\nGold Reward: {self.gold_reward}\\nStatus: {status}\")\n",
        "\n",
        "class Combat:\n",
        "    def __init__(self, player, enemy):\n",
        "        self.player = player\n",
        "        self.enemy = enemy\n",
        "\n",
        "    def attack_enemy(self):\n",
        "        damage = self.player._Player__attack - self.enemy._enemy__EnemyDefense\n",
        "        if damage > 0:\n",
        "            self.enemy.take_damage(damage)\n",
        "        else:\n",
        "            damage = 0\n",
        "        print(f\"{self.player.name} attacks {self.enemy.Enemyname} for {damage} damage!\")\n",
        "\n",
        "    def attack_player(self):\n",
        "        damage = self.enemy._Enemy__EnemyAttack - self.player._Player__defense\n",
        "        if damage > 0:\n",
        "            self.player.take_damage(damage)\n",
        "        else:\n",
        "            damage = 0\n",
        "        print(f\"{self.enemy.Enemyname} attacks {self.player.name} for {damage} damage!\")"
      ]
    },
    {
      "cell_type": "code",
      "execution_count": 306,
      "metadata": {},
      "outputs": [],
      "source": [
        "player1 = Player('sunfz')"
      ]
    },
    {
      "cell_type": "code",
      "execution_count": 307,
      "metadata": {},
      "outputs": [
        {
          "name": "stdout",
          "output_type": "stream",
          "text": [
            "Name: sunfz\n",
            "HP: 100\n",
            "Attack: 10\n",
            "Defense: 5\n",
            "Gold: 0\n",
            "Level: 1\n",
            "Experience: 0\n",
            "---------------------------------\n"
          ]
        }
      ],
      "source": [
        "player1.display_stataus()"
      ]
    },
    {
      "cell_type": "code",
      "execution_count": 308,
      "metadata": {},
      "outputs": [],
      "source": [
        "enemy1 = enemy('Goblin')"
      ]
    },
    {
      "cell_type": "code",
      "execution_count": 309,
      "metadata": {},
      "outputs": [
        {
          "name": "stdout",
          "output_type": "stream",
          "text": [
            "Name: Goblin\n",
            "HP: 104\n",
            "Attack: 19\n",
            "Defense: 10\n",
            "Level: 4\n",
            "---------------------------------\n"
          ]
        }
      ],
      "source": [
        "enemy1.displayEnemyStatus()"
      ]
    },
    {
      "cell_type": "code",
      "execution_count": 310,
      "metadata": {},
      "outputs": [],
      "source": [
        "backpack = inventory()"
      ]
    },
    {
      "cell_type": "code",
      "execution_count": 311,
      "metadata": {},
      "outputs": [
        {
          "name": "stdout",
          "output_type": "stream",
          "text": [
            "This is your inventory : []\n"
          ]
        }
      ],
      "source": [
        "backpack.showInventory()"
      ]
    },
    {
      "cell_type": "code",
      "execution_count": 312,
      "metadata": {},
      "outputs": [],
      "source": [
        "shop = store(\"Poommarat and The gang Thieft of Vachira\")"
      ]
    },
    {
      "cell_type": "code",
      "execution_count": 313,
      "metadata": {},
      "outputs": [],
      "source": [
        "item1 = item(\"Armor\", 100, 10)\n",
        "item2 = item(\"Sword\", 50, 5)\n",
        "item3 = item(\"Potion\", 10, 20)"
      ]
    },
    {
      "cell_type": "code",
      "execution_count": 314,
      "metadata": {},
      "outputs": [],
      "source": [
        "shop.add_items(item1)\n",
        "shop.add_items(item2)\n",
        "shop.add_items(item3)"
      ]
    },
    {
      "cell_type": "code",
      "execution_count": 315,
      "metadata": {},
      "outputs": [
        {
          "name": "stdout",
          "output_type": "stream",
          "text": [
            "product is  Armor\n",
            "price is  100\n",
            "count is 10\n",
            "product is  Sword\n",
            "price is  50\n",
            "count is 5\n",
            "product is  Potion\n",
            "price is  10\n",
            "count is 20\n"
          ]
        }
      ],
      "source": [
        "shop.show_stock()"
      ]
    },
    {
      "cell_type": "code",
      "execution_count": 316,
      "metadata": {},
      "outputs": [
        {
          "name": "stdout",
          "output_type": "stream",
          "text": [
            "sunfz doesn't have enough gold!\n"
          ]
        }
      ],
      "source": [
        "shop.buy_item(player1, \"Sword\", 50)"
      ]
    },
    {
      "cell_type": "code",
      "execution_count": 321,
      "metadata": {},
      "outputs": [],
      "source": [
        "combat = Combat(player1, enemy1)"
      ]
    },
    {
      "cell_type": "code",
      "execution_count": 322,
      "metadata": {},
      "outputs": [
        {
          "name": "stdout",
          "output_type": "stream",
          "text": [
            "sunfz attacks Goblin for 0 damage!\n"
          ]
        }
      ],
      "source": [
        "combat.attack_enemy()"
      ]
    },
    {
      "cell_type": "code",
      "execution_count": 289,
      "metadata": {},
      "outputs": [],
      "source": [
        "quest1 = quest(\"Defeat the Goblin\", 50, 20)"
      ]
    },
    {
      "cell_type": "code",
      "execution_count": 290,
      "metadata": {},
      "outputs": [
        {
          "name": "stdout",
          "output_type": "stream",
          "text": [
            "Quest: Defeat the Goblin\n",
            "Experience Reward: 50\n",
            "Gold Reward: 20\n",
            "Status: not completed\n"
          ]
        }
      ],
      "source": [
        "quest1.show_quest()"
      ]
    },
    {
      "cell_type": "code",
      "execution_count": 291,
      "metadata": {},
      "outputs": [
        {
          "name": "stdout",
          "output_type": "stream",
          "text": [
            "Hero completed quest: Defeat the Goblin!\n"
          ]
        }
      ],
      "source": [
        "quest1.complete_quest(player1)"
      ]
    }
  ],
  "metadata": {
    "colab": {
      "provenance": []
    },
    "kernelspec": {
      "display_name": "Python 3",
      "name": "python3"
    },
    "language_info": {
      "codemirror_mode": {
        "name": "ipython",
        "version": 3
      },
      "file_extension": ".py",
      "mimetype": "text/x-python",
      "name": "python",
      "nbconvert_exporter": "python",
      "pygments_lexer": "ipython3",
      "version": "3.11.9"
    }
  },
  "nbformat": 4,
  "nbformat_minor": 0
}
